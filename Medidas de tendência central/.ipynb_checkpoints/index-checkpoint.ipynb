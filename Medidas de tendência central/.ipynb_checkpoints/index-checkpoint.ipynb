{
 "cells": [
  {
   "cell_type": "markdown",
   "metadata": {},
   "source": [
    "# Medidas de tendência central"
   ]
  },
  {
   "cell_type": "markdown",
   "metadata": {},
   "source": [
    "Quando queremos fazer um resumo estatístico dos dados o uso das medidas de tendência central é uma optima idea para podermos explicar os nosso dados para nosso cliente porque nos representamos esse cojunto de dados num único valor\n",
    "\n",
    "Importância na prática:\n",
    "\n",
    "* ✅ Tomada de decisão: Empresas usam a média salarial para definir políticas de pagamento.\n",
    "* ✅ Ciência de dados e ML: Ajuda na pré-análise e na modelagem dos dados.\n",
    "* ✅ Saúde e economia: Médicos usam a mediana de idade para entender grupos de risco."
   ]
  },
  {
   "cell_type": "code",
   "execution_count": 21,
   "metadata": {},
   "outputs": [],
   "source": [
    "import pandas as pd\n",
    "import numpy as np\n",
    "import matplotlib.pyplot as plt\n",
    "import seaborn as sns"
   ]
  },
  {
   "cell_type": "markdown",
   "metadata": {},
   "source": [
    "# Média\n",
    "* **Média:** – A soma de todos os valores dividida pelo número total de observações.\n",
    "    *  Útil para conjuntos de dados simétricos sem valores extremos."
   ]
  },
  {
   "cell_type": "code",
   "execution_count": 3,
   "metadata": {},
   "outputs": [
    {
     "data": {
      "text/html": [
       "<div>\n",
       "<style scoped>\n",
       "    .dataframe tbody tr th:only-of-type {\n",
       "        vertical-align: middle;\n",
       "    }\n",
       "\n",
       "    .dataframe tbody tr th {\n",
       "        vertical-align: top;\n",
       "    }\n",
       "\n",
       "    .dataframe thead th {\n",
       "        text-align: right;\n",
       "    }\n",
       "</style>\n",
       "<table border=\"1\" class=\"dataframe\">\n",
       "  <thead>\n",
       "    <tr style=\"text-align: right;\">\n",
       "      <th></th>\n",
       "      <th>Nomes</th>\n",
       "      <th>Idades</th>\n",
       "    </tr>\n",
       "  </thead>\n",
       "  <tbody>\n",
       "    <tr>\n",
       "      <th>0</th>\n",
       "      <td>Alisson</td>\n",
       "      <td>25</td>\n",
       "    </tr>\n",
       "    <tr>\n",
       "      <th>1</th>\n",
       "      <td>Ederson</td>\n",
       "      <td>24</td>\n",
       "    </tr>\n",
       "    <tr>\n",
       "      <th>2</th>\n",
       "      <td>Thiago Silva</td>\n",
       "      <td>33</td>\n",
       "    </tr>\n",
       "    <tr>\n",
       "      <th>3</th>\n",
       "      <td>Marquinhos</td>\n",
       "      <td>24</td>\n",
       "    </tr>\n",
       "    <tr>\n",
       "      <th>4</th>\n",
       "      <td>Miranda</td>\n",
       "      <td>33</td>\n",
       "    </tr>\n",
       "    <tr>\n",
       "      <th>5</th>\n",
       "      <td>Casemiro</td>\n",
       "      <td>26</td>\n",
       "    </tr>\n",
       "    <tr>\n",
       "      <th>6</th>\n",
       "      <td>Paulinho</td>\n",
       "      <td>29</td>\n",
       "    </tr>\n",
       "    <tr>\n",
       "      <th>7</th>\n",
       "      <td>Fernandinho</td>\n",
       "      <td>33</td>\n",
       "    </tr>\n",
       "    <tr>\n",
       "      <th>8</th>\n",
       "      <td>Willian</td>\n",
       "      <td>29</td>\n",
       "    </tr>\n",
       "    <tr>\n",
       "      <th>9</th>\n",
       "      <td>Fred</td>\n",
       "      <td>25</td>\n",
       "    </tr>\n",
       "    <tr>\n",
       "      <th>10</th>\n",
       "      <td>Neymar</td>\n",
       "      <td>26</td>\n",
       "    </tr>\n",
       "    <tr>\n",
       "      <th>11</th>\n",
       "      <td>Gabriel Jesus</td>\n",
       "      <td>21</td>\n",
       "    </tr>\n",
       "    <tr>\n",
       "      <th>12</th>\n",
       "      <td>Douglas Costa</td>\n",
       "      <td>27</td>\n",
       "    </tr>\n",
       "    <tr>\n",
       "      <th>13</th>\n",
       "      <td>Taison</td>\n",
       "      <td>30</td>\n",
       "    </tr>\n",
       "    <tr>\n",
       "      <th>14</th>\n",
       "      <td>Philippe Coutinho</td>\n",
       "      <td>26</td>\n",
       "    </tr>\n",
       "    <tr>\n",
       "      <th>15</th>\n",
       "      <td>Renato Augusto</td>\n",
       "      <td>30</td>\n",
       "    </tr>\n",
       "    <tr>\n",
       "      <th>16</th>\n",
       "      <td>Marcelo</td>\n",
       "      <td>30</td>\n",
       "    </tr>\n",
       "    <tr>\n",
       "      <th>17</th>\n",
       "      <td>Danilo</td>\n",
       "      <td>26</td>\n",
       "    </tr>\n",
       "    <tr>\n",
       "      <th>18</th>\n",
       "      <td>Fagner</td>\n",
       "      <td>29</td>\n",
       "    </tr>\n",
       "    <tr>\n",
       "      <th>19</th>\n",
       "      <td>Filipe Luís</td>\n",
       "      <td>32</td>\n",
       "    </tr>\n",
       "  </tbody>\n",
       "</table>\n",
       "</div>"
      ],
      "text/plain": [
       "                Nomes  Idades\n",
       "0             Alisson      25\n",
       "1             Ederson      24\n",
       "2        Thiago Silva      33\n",
       "3          Marquinhos      24\n",
       "4             Miranda      33\n",
       "5            Casemiro      26\n",
       "6            Paulinho      29\n",
       "7         Fernandinho      33\n",
       "8             Willian      29\n",
       "9                Fred      25\n",
       "10             Neymar      26\n",
       "11      Gabriel Jesus      21\n",
       "12      Douglas Costa      27\n",
       "13             Taison      30\n",
       "14  Philippe Coutinho      26\n",
       "15     Renato Augusto      30\n",
       "16            Marcelo      30\n",
       "17             Danilo      26\n",
       "18             Fagner      29\n",
       "19        Filipe Luís      32"
      ]
     },
     "execution_count": 3,
     "metadata": {},
     "output_type": "execute_result"
    }
   ],
   "source": [
    "# Jogadores brasileiros da copa do mundo de 2018 com as sua idades\n",
    "Jogadores = {\n",
    "    \"Nomes\":[\"Alisson\", \"Ederson\", \"Thiago Silva\", \"Marquinhos\", \"Miranda\", \"Casemiro\", \"Paulinho\", \"Fernandinho\", \"Willian\", \"Fred\", \"Neymar\", \"Gabriel Jesus\", \"Douglas Costa\", \"Taison\", \"Philippe Coutinho\", \"Renato Augusto\", \"Marcelo\", \"Danilo\", \"Fagner\", \"Filipe Luís\"],\n",
    "    \"Idades\":[25, 24, 33, 24, 33, 26, 29, 33, 29, 25, 26, 21, 27, 30, 26, 30, 30, 26, 29, 32] \n",
    "}\n",
    "\n",
    "df_Jogadores = pd.DataFrame(Jogadores)\n",
    "df_Jogadores"
   ]
  },
  {
   "cell_type": "code",
   "execution_count": 7,
   "metadata": {},
   "outputs": [
    {
     "name": "stdout",
     "output_type": "stream",
     "text": [
      "O mais novo é Gabriel Jesus com 21 anos\n",
      "O mais velho é o Thiago Silva com 33 anos\n"
     ]
    }
   ],
   "source": [
    "# Quer o nome do jogador mais novo e do mais velho\n",
    "nome_mais_novo =df_Jogadores[\"Nomes\"][df_Jogadores[\"Idades\"].idxmin()]\n",
    "nome_mais_velho = df_Jogadores[\"Nomes\"][df_Jogadores[\"Idades\"].idxmax()]\n",
    "\n",
    "#Quero saber idade do jogador mais novo e do mais velho\n",
    "idade_mais_novo = df_Jogadores[\"Idades\"].min()\n",
    "idade_mais_velho = df_Jogadores[\"Idades\"].max()\n",
    "\n",
    "print(f\"O mais novo é {nome_mais_novo} com {idade_mais_novo} anos\\nO mais velho é o {nome_mais_velho} com {idade_mais_velho} anos\")"
   ]
  },
  {
   "cell_type": "code",
   "execution_count": 8,
   "metadata": {},
   "outputs": [
    {
     "name": "stdout",
     "output_type": "stream",
     "text": [
      "A média das idades é 27.9\n"
     ]
    }
   ],
   "source": [
    "# Media das idades\n",
    "media = df_Jogadores[\"Idades\"].mean()\n",
    "print(f\"A média das idades é {media}\")"
   ]
  },
  {
   "cell_type": "code",
   "execution_count": 53,
   "metadata": {},
   "outputs": [
    {
     "data": {
      "image/png": "[encoded data removed]",
      "text/plain": [
       "<Figure size 640x480 with 1 Axes>"
      ]
     },
     "metadata": {},
     "output_type": "display_data"
    }
   ],
   "source": [
    "# representando graficamente\n",
    "sns.set_theme()\n",
    "plt.hist(df_Jogadores.Idades, bins = 7, color='lightGreen', edgecolor='black', alpha=0.7)\n",
    "plt.axvline(media, color = \"Blue\", label = f\"A meida é {media}\", linestyle = \"--\")\n",
    "plt.xlabel('Idades')\n",
    "plt.ylabel('Frequência')\n",
    "plt.title('Distribuição das idades dos jogadores')\n",
    "plt.legend()\n",
    "plt.show()"
   ]
  },
  {
   "cell_type": "code",
   "execution_count": 9,
   "metadata": {},
   "outputs": [
    {
     "name": "stdout",
     "output_type": "stream",
     "text": [
      "A mediana das idades é 28.0\n"
     ]
    }
   ],
   "source": [
    "mediana = df_Jogadores[\"Idades\"].median()\n",
    "print(f\"A mediana das idades é {mediana}\")"
   ]
  }
 ],
 "metadata": {
  "kernelspec": {
   "display_name": "Python 3",
   "language": "python",
   "name": "python3"
  },
  "language_info": {
   "codemirror_mode": {
    "name": "ipython",
    "version": 3
   },
   "file_extension": ".py",
   "mimetype": "text/x-python",
   "name": "python",
   "nbconvert_exporter": "python",
   "pygments_lexer": "ipython3",
   "version": "3.13.2"
  }
 },
 "nbformat": 4,
 "nbformat_minor": 2
}
